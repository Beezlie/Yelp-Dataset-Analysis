{
 "cells": [
  {
   "cell_type": "raw",
   "metadata": {},
   "source": [
    "# Load scikit\n",
    "\n",
    "# Load pandas\n",
    "import pandas as pd\n",
    "\n",
    "#%matplotlib inline\n",
    "from copy import deepcopy\n",
    "import numpy as np\n",
    "from matplotlib import pyplot as plt\n",
    "plt.rcParams['figure.figsize'] = (16, 9)\n",
    "plt.style.use('ggplot')\n",
    "\n",
    "#create dataframe from yelp csv \n",
    "input_file = \"yelp_reviews_min_test.csv\"\n",
    "dataset = pd.read_csv(input_file)\n",
    "print(dataset.shape)\n",
    "dataset.head()\n",
    "\n",
    "# Getting the values and plotting it\n",
    "f1 = dataset['user_stars'].values\n",
    "f2 = dataset['user_cool'].values\n",
    "X = np.array(list(zip(f1, f2)))\n",
    "plt.scatter(f1, f2, c='black', s=7)"
   ]
  },
  {
   "cell_type": "code",
   "execution_count": null,
   "metadata": {
    "collapsed": true
   },
   "outputs": [],
   "source": []
  }
 ],
 "metadata": {
  "kernelspec": {
   "display_name": "Python 2",
   "language": "python",
   "name": "python2"
  },
  "language_info": {
   "codemirror_mode": {
    "name": "ipython",
    "version": 2
   },
   "file_extension": ".py",
   "mimetype": "text/x-python",
   "name": "python",
   "nbconvert_exporter": "python",
   "pygments_lexer": "ipython2",
   "version": "2.7.14"
  }
 },
 "nbformat": 4,
 "nbformat_minor": 2
}
