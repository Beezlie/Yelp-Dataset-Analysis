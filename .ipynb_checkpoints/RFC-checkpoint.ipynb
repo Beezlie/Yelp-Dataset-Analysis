{
 "cells": [
  {
   "cell_type": "code",
   "execution_count": 1,
   "metadata": {},
   "outputs": [
    {
     "name": "stderr",
     "output_type": "stream",
     "text": [
      "/home/matt/anaconda2/lib/python2.7/site-packages/sklearn/model_selection/_split.py:2026: FutureWarning: From version 0.21, test_size will always complement train_size unless both are specified.\n",
      "  FutureWarning)\n"
     ]
    },
    {
     "name": "stdout",
     "output_type": "stream",
     "text": [
      "Train_x Shape ::  (524287, 13)\n",
      "Train_y Shape ::  (524287,)\n",
      "Test_x Shape ::  (524288, 13)\n",
      "Test_y Shape ::  (524288,)\n",
      "Trained model ::  RandomForestClassifier(bootstrap=True, class_weight=None, criterion='gini',\n",
      "            max_depth=None, max_features='auto', max_leaf_nodes=None,\n",
      "            min_impurity_decrease=0.0, min_impurity_split=None,\n",
      "            min_samples_leaf=1, min_samples_split=2,\n",
      "            min_weight_fraction_leaf=0.0, n_estimators=10, n_jobs=1,\n",
      "            oob_score=False, random_state=None, verbose=0,\n",
      "            warm_start=False)\n",
      "Actual outcome :: 5 and Predicted outcome :: 5\n",
      "Actual outcome :: 1 and Predicted outcome :: 1\n",
      "Actual outcome :: 3 and Predicted outcome :: 3\n",
      "Actual outcome :: 5 and Predicted outcome :: 5\n",
      "Actual outcome :: 5 and Predicted outcome :: 5\n",
      "Train Accuracy ::  0.998350140286\n",
      "Test Accuracy  ::  0.960151672363\n",
      " Confusion matrix  [[108983    704    273    486   1670]\n",
      " [  2244  32833    199    448    856]\n",
      " [   979    303  22523    467   1045]\n",
      " [  1044    387    360  55524   3869]\n",
      " [  2034    565    568   2391 283533]]\n"
     ]
    },
    {
     "data": {
      "image/png": "[encoded data removed]",
      "text/plain": [
       "<matplotlib.figure.Figure at 0x7ff15b02c990>"
      ]
     },
     "metadata": {},
     "output_type": "display_data"
    },
    {
     "data": {
      "text/plain": [
       "<matplotlib.figure.Figure at 0x7ff14be0f0d0>"
      ]
     },
     "metadata": {},
     "output_type": "display_data"
    }
   ],
   "source": [
    "from sklearn.ensemble import RandomForestClassifier\n",
    "from sklearn.model_selection import train_test_split\n",
    "from sklearn.metrics import accuracy_score\n",
    "from sklearn.metrics import confusion_matrix\n",
    "import pandas as pd\n",
    "import numpy as np\n",
    "import seaborn as sns\n",
    "import matplotlib.pyplot as plt\n",
    "\n",
    "#create dataframe from yelp csv \n",
    "input_file = \"partial_dataset.csv\"\n",
    "dataset = pd.read_csv(input_file)\n",
    "#print(dataset[0:4].head())\n",
    "headers = list(dataset.columns)\n",
    "feature_headers = headers[0:-1]\n",
    "target_header = headers[-1]\n",
    "\n",
    "# Split dataset into train and test dataset\n",
    "train_x, test_x, train_y, test_y = train_test_split(dataset[feature_headers], dataset[target_header],\n",
    "                                                        train_size=0.5)\n",
    "\n",
    " # Train and Test dataset size details\n",
    "print \"Train_x Shape :: \", train_x.shape\n",
    "print \"Train_y Shape :: \", train_y.shape\n",
    "print \"Test_x Shape :: \", test_x.shape\n",
    "print \"Test_y Shape :: \", test_y.shape\n",
    "\n",
    "clf = RandomForestClassifier()\n",
    "clf.fit(train_x, train_y)\n",
    "\n",
    "print \"Trained model :: \", clf\n",
    "\n",
    "predictions = clf.predict(test_x)\n",
    " \n",
    "for i in xrange(0, 5):\n",
    "    print \"Actual outcome :: {} and Predicted outcome :: {}\".format(list(test_y)[i], predictions[i])\n",
    "    \n",
    "# Train and Test Accuracy\n",
    "print \"Train Accuracy :: \", accuracy_score(train_y, clf.predict(train_x))\n",
    "print \"Test Accuracy  :: \", accuracy_score(test_y, predictions)\n",
    "print \" Confusion matrix \", confusion_matrix(test_y, predictions)\n",
    "\n",
    "rating_range = list(range(1, 6))\n",
    "print(rating_range)\n",
    "cm = pd.DataFrame(confusion_matrix(test_y, predictions))\n",
    "plt.figure(figsize=(8, 6))\n",
    "sns.heatmap(cm, annot=True)\n",
    "plt.show()\n",
    "\n",
    "#importances = clf.feature_importances_\n",
    "#indices = np.argsort(importances)\n",
    "#features = dataset.columns[0:-1]\n",
    "#plt.figure(1)\n",
    "#plt.title('Feature Importances')\n",
    "#plt.barh(range(len(indices)), importances[indices], color='b', align='center')\n",
    "#plt.yticks(range(len(indices)), features[indices])\n",
    "#plt.xlabel('Relative Importance')\n",
    "#plt.figure(figsize=(10, 8))\n",
    "#plt.show()\n",
    "\n"
   ]
  },
  {
   "cell_type": "code",
   "execution_count": null,
   "metadata": {
    "collapsed": true
   },
   "outputs": [],
   "source": []
  }
 ],
 "metadata": {
  "kernelspec": {
   "display_name": "Python 2",
   "language": "python",
   "name": "python2"
  },
  "language_info": {
   "codemirror_mode": {
    "name": "ipython",
    "version": 2
   },
   "file_extension": ".py",
   "mimetype": "text/x-python",
   "name": "python",
   "nbconvert_exporter": "python",
   "pygments_lexer": "ipython2",
   "version": "2.7.14"
  }
 },
 "nbformat": 4,
 "nbformat_minor": 2
}
