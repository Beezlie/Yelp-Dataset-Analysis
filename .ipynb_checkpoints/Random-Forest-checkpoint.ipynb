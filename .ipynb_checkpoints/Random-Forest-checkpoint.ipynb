{
 "cells": [
  {
   "cell_type": "code",
   "execution_count": null,
   "metadata": {},
   "outputs": [],
   "source": [
    "# Load scikit's random forest classifier library\n",
    "from sklearn.ensemble import RandomForestClassifier\n",
    "from sklearn.model_selection import train_test_split\n",
    "from sklearn.metrics import accuracy_score\n",
    "from sklearn.metrics import confusion_matrix\n",
    "\n",
    "# Load pandas\n",
    "import pandas as pd\n",
    "\n",
    "# Load numpy\n",
    "import numpy as np\n",
    "\n",
    "# Set random seed\n",
    "np.random.seed(0)\n",
    "\n",
    "#create dataframe from yelp csv \n",
    "input_file = \"yelp_reviews_min_test.csv\"\n",
    "dataset = pd.read_csv(input_file)\n",
    "headers = list(dataset.columns)\n",
    "feature_headers = headers[0:-1]\n",
    "target_header = headers[-1]\n",
    "\n",
    "# Split dataset into train and test dataset\n",
    "train_x, test_x, train_y, test_y = train_test_split(dataset[feature_headers], dataset[target_header],\n",
    "                                                        train_size=0.5)\n",
    "#print(feature_headers)\n",
    "#print(target_header]\n",
    "\n",
    " # Train and Test dataset size details\n",
    "print \"Train_x Shape :: \", train_x.shape\n",
    "print \"Train_y Shape :: \", train_y.shape\n",
    "print \"Test_x Shape :: \", test_x.shape\n",
    "print \"Test_y Shape :: \", test_y.shape\n",
    "\n",
    "clf = RandomForestClassifier()\n",
    "clf.fit(train_x, train_y)\n",
    "\n",
    "print \"Trained model :: \", clf\n",
    "\n",
    "predictions = clf.predict(test_x)\n",
    " \n",
    "for i in xrange(0, 5):\n",
    "    print \"Actual outcome :: {} and Predicted outcome :: {}\".format(list(test_y)[i], predictions[i])\n",
    "    \n",
    "# Train and Test Accuracy\n",
    "print \"Train Accuracy :: \", accuracy_score(train_y, clf.predict(train_x))\n",
    "print \"Test Accuracy  :: \", accuracy_score(test_y, predictions)\n",
    "print \" Confusion matrix \", confusion_matrix(test_y, predictions)\n"
   ]
  },
  {
   "cell_type": "code",
   "execution_count": null,
   "metadata": {
    "collapsed": true
   },
   "outputs": [],
   "source": []
  }
 ],
 "metadata": {
  "kernelspec": {
   "display_name": "Python 2",
   "language": "python",
   "name": "python2"
  },
  "language_info": {
   "codemirror_mode": {
    "name": "ipython",
    "version": 2
   },
   "file_extension": ".py",
   "mimetype": "text/x-python",
   "name": "python",
   "nbconvert_exporter": "python",
   "pygments_lexer": "ipython2",
   "version": "2.7.14"
  }
 },
 "nbformat": 4,
 "nbformat_minor": 2
}
