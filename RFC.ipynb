{
 "cells": [
  {
   "cell_type": "code",
   "execution_count": null,
   "metadata": {
    "collapsed": true
   },
   "outputs": [],
   "source": [
    "from sklearn.ensemble import RandomForestClassifier\n",
    "from sklearn.model_selection import train_test_split\n",
    "from sklearn.metrics import accuracy_score\n",
    "from sklearn.metrics import confusion_matrix\n",
    "import pandas as pd\n",
    "import numpy as np\n",
    "import seaborn as sns\n",
    "import matplotlib.pyplot as plt\n",
    "\n",
    "#create dataframe from yelp csv \n",
    "input_file = \"yelp_reviews_min_test.csv\"\n",
    "dataset = pd.read_csv(input_file)\n",
    "headers = list(dataset.columns)\n",
    "feature_headers = headers[0:-1]\n",
    "target_header = headers[-1]\n",
    "\n",
    "# Split dataset into train and test dataset\n",
    "train_x, test_x, train_y, test_y = train_test_split(dataset[feature_headers], dataset[target_header],\n",
    "                                                        train_size=0.5)\n",
    "\n",
    " # Train and Test dataset size details\n",
    "print \"Train_x Shape :: \", train_x.shape\n",
    "print \"Train_y Shape :: \", train_y.shape\n",
    "print \"Test_x Shape :: \", test_x.shape\n",
    "print \"Test_y Shape :: \", test_y.shape\n",
    "\n",
    "clf = RandomForestClassifier()\n",
    "clf.fit(train_x, train_y)\n",
    "\n",
    "print \"Trained model :: \", clf\n",
    "\n",
    "predictions = clf.predict(test_x)\n",
    " \n",
    "for i in xrange(0, 5):\n",
    "    print \"Actual outcome :: {} and Predicted outcome :: {}\".format(list(test_y)[i], predictions[i])\n",
    "    \n",
    "# Train and Test Accuracy\n",
    "print \"Train Accuracy :: \", accuracy_score(train_y, clf.predict(train_x))\n",
    "print \"Test Accuracy  :: \", accuracy_score(test_y, predictions)\n",
    "print \" Confusion matrix \", confusion_matrix(test_y, predictions)\n",
    "\n",
    "#rating_range = list(range(1, 6))\n",
    "#print(rating_range)\n",
    "#cm = pd.DataFrame(confusion_matrix(test_y, predictions))\n",
    "#plt.figure(figsize=(8, 6))\n",
    "#sns.heatmap(cm, annot=True)\n",
    "#plt.show()\n",
    "\n",
    "importances = clf.feature_importances_\n",
    "indices = np.argsort(importances)\n",
    "features = dataset.columns[0:-1]\n",
    "plt.figure(1)\n",
    "plt.title('Feature Importances')\n",
    "plt.barh(range(len(indices)), importances[indices], color='b', align='center')\n",
    "plt.yticks(range(len(indices)), features[indices])\n",
    "plt.xlabel('Relative Importance')\n",
    "plt.figure(figsize=(10, 8))\n",
    "plt.show()\n",
    "\n"
   ]
  }
 ],
 "metadata": {
  "kernelspec": {
   "display_name": "Python 2",
   "language": "python",
   "name": "python2"
  },
  "language_info": {
   "codemirror_mode": {
    "name": "ipython",
    "version": 2
   },
   "file_extension": ".py",
   "mimetype": "text/x-python",
   "name": "python",
   "nbconvert_exporter": "python",
   "pygments_lexer": "ipython2",
   "version": "2.7.14"
  }
 },
 "nbformat": 4,
 "nbformat_minor": 2
}
