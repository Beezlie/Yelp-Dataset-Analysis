{
 "cells": [
  {
   "cell_type": "code",
   "execution_count": null,
   "metadata": {},
   "outputs": [
    {
     "name": "stdout",
     "output_type": "stream",
     "text": [
      "Train_x Shape ::  (482012, 12)\n",
      "Train_y Shape ::  (482012,)\n",
      "Test_x Shape ::  (482012, 12)\n",
      "Test_y Shape ::  (482012,)\n",
      "Trained model ::  RandomForestClassifier(bootstrap=True, class_weight=None, criterion='gini',\n",
      "            max_depth=None, max_features='auto', max_leaf_nodes=None,\n",
      "            min_impurity_decrease=0.0, min_impurity_split=None,\n",
      "            min_samples_leaf=1, min_samples_split=2,\n",
      "            min_weight_fraction_leaf=0.0, n_estimators=10, n_jobs=1,\n",
      "            oob_score=False, random_state=None, verbose=0,\n",
      "            warm_start=False)\n",
      "Test Accuracy  ::  0.5148813722479938\n",
      "Train Accuracy :: "
     ]
    }
   ],
   "source": [
    "from sklearn.ensemble import RandomForestClassifier\n",
    "from sklearn.model_selection import train_test_split\n",
    "from sklearn.metrics import accuracy_score\n",
    "from sklearn.metrics import confusion_matrix\n",
    "import pandas as pd\n",
    "import numpy as np\n",
    "import seaborn as sns\n",
    "import matplotlib.pyplot as plt\n",
    "% matplotlib inline\n",
    "\n",
    "#create dataframe from yelp csv \n",
    "input_file = \"complete_dataset_updated.csv\"\n",
    "dataset = pd.read_csv(input_file)\n",
    "headers = list(dataset.columns)\n",
    "feature_headers = headers[0:-1]\n",
    "target_header = headers[-1]\n",
    "\n",
    "# Split dataset into train and test dataset\n",
    "train_x, test_x, train_y, test_y = train_test_split(dataset[feature_headers], dataset[target_header],\n",
    "                                                        train_size=0.5)\n",
    "\n",
    " # Train and Test dataset size details\n",
    "print \"Train_x Shape :: \", train_x.shape\n",
    "print \"Train_y Shape :: \", train_y.shape\n",
    "print \"Test_x Shape :: \", test_x.shape\n",
    "print \"Test_y Shape :: \", test_y.shape\n",
    "\n",
    "clf = RandomForestClassifier()\n",
    "clf.fit(train_x, train_y)\n",
    "\n",
    "print \"Trained model :: \", clf\n",
    "\n",
    "predictions = clf.predict(test_x)\n",
    " \n",
    "#for i in xrange(0, 5):\n",
    "#    print \"Actual outcome :: {} and Predicted outcome :: {}\".format(list(test_y)[i], predictions[i])\n",
    "    \n",
    "# Train and Test Accuracy\n",
    "print \"Test Accuracy  :: \", accuracy_score(test_y, predictions)\n",
    "print \"Train Accuracy :: \", accuracy_score(train_y, clf.predict(train_x))\n",
    "print \" Confusion matrix \", confusion_matrix(test_y, predictions)\n",
    "\n",
    "#rating_range = list(range(1, 6))\n",
    "#print(rating_range)\n",
    "#cm = pd.DataFrame(confusion_matrix(test_y, predictions))\n",
    "#plt.figure(figsize=(8, 6))\n",
    "#sns.heatmap(cm, annot=True)\n",
    "#plt.show()\n",
    "\n",
    "importances = clf.feature_importances_\n",
    "indices = np.argsort(importances)\n",
    "features = dataset.columns[0:-1]\n",
    "plt.figure(1)\n",
    "plt.title('Feature Importances')\n",
    "plt.barh(range(len(indices)), importances[indices], color='b', align='center')\n",
    "plt.yticks(range(len(indices)), features[indices])\n",
    "plt.xlabel('Relative Importance')\n",
    "plt.figure(figsize=(10, 8))\n",
    "plt.show()\n",
    "\n"
   ]
  },
  {
   "cell_type": "code",
   "execution_count": null,
   "metadata": {},
   "outputs": [],
   "source": []
  },
  {
   "cell_type": "code",
   "execution_count": null,
   "metadata": {},
   "outputs": [],
   "source": []
  }
 ],
 "metadata": {
  "kernelspec": {
   "display_name": "Python 2",
   "language": "python",
   "name": "python2"
  },
  "language_info": {
   "codemirror_mode": {
    "name": "ipython",
    "version": 2
   },
   "file_extension": ".py",
   "mimetype": "text/x-python",
   "name": "python",
   "nbconvert_exporter": "python",
   "pygments_lexer": "ipython2",
   "version": "2.7.15"
  }
 },
 "nbformat": 4,
 "nbformat_minor": 2
}
